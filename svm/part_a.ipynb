{
 "cells": [
  {
   "cell_type": "code",
   "execution_count": 70,
   "metadata": {},
   "outputs": [
    {
     "name": "stdout",
     "output_type": "stream",
     "text": [
      "\n",
      " Support Vectors are:\n",
      "X: \n",
      " [[0.24979414 0.18230306]\n",
      " [0.3917889  0.96675591]\n",
      " [0.02066458 0.27003158]]\n",
      "Y: \n",
      " [ 1. -1. -1.]\n",
      "sv_index: [27 83 87]\n",
      "y[S]:  [ 1. -1. -1.]\n",
      "np.dot(X[S], W):  [[ 1.10698734]\n",
      " [-0.89301266]\n",
      " [-0.89301266]]\n",
      "[[-0.10698734 -2.10698734 -2.10698734]\n",
      " [ 1.89301266 -0.10698734 -0.10698734]\n",
      " [ 1.89301266 -0.10698734 -0.10698734]]\n"
     ]
    }
   ],
   "source": [
    "import numpy as np\n",
    "import cvxopt\n",
    "import matplotlib.pyplot as plt\n",
    "import sys\n",
    "class SVM:\n",
    "\n",
    "    def __init__(self, filename):\n",
    "        self.dat = np.loadtxt(filename,dtype='float',delimiter=',')\n",
    "        self.X = self.dat[:,0:2]\n",
    "        self.Y = self.dat[:,2]\n",
    "        self.rows, self.cols = self.X.shape\n",
    "        self.omiga = 0.01\n",
    "        self.hyperplane()\n",
    "        self.support_vectors()\n",
    "        self.weights()\n",
    "        #self.plot()\n",
    "        # Need to get the intercept\n",
    "        #self.kernel_function() --> create a kernel function for non linear data\n",
    "        \n",
    "    def hyperplane(self):\n",
    "        self.xixj = np.zeros((self.rows, self.rows))\n",
    "        self.yiyj = np.zeros((self.rows, self.rows))\n",
    "        \n",
    "        for i in range(self.rows):\n",
    "            for j in range(self.rows):\n",
    "                self.xixj[i, j] = np.dot(self.X[i], self.X[j])\n",
    "                self.yiyj[i, j] = np.dot(self.Y[i], self.Y[j])\n",
    "\n",
    "        P = self.yiyj * self.xixj\n",
    "        q = np.ones(self.rows) * -1\n",
    "        G = np.diag(np.ones(self.rows) * -1)\n",
    "        h = np.zeros(self.rows)\n",
    "        A = self.Y\n",
    "        b = 0.0\n",
    "        self.alphas = self.cvxopt_solve_qp(P, q, G, h, A, b)\n",
    "        #print('\\n alphas are:')\n",
    "        #print(self.alphas)\n",
    "        \n",
    "    def cvxopt_solve_qp(self, P, q, G=None, h=None, A=None, b=None):\n",
    "    #     P = .5 * (P + P.T)  # make sure P is symmetric\n",
    "        args = [cvxopt.matrix(P), cvxopt.matrix(q)]\n",
    "        if G is not None:\n",
    "            args.extend([cvxopt.matrix(G), cvxopt.matrix(h)])\n",
    "            if A is not None:\n",
    "                args.extend([cvxopt.matrix(A, (1,100)), cvxopt.matrix(b)])\n",
    "        sol = cvxopt.solvers.qp(*args)\n",
    "        if 'optimal' not in sol['status']:\n",
    "            return None\n",
    "        return np.array(sol['x']).reshape((P.shape[1],))\n",
    "\n",
    "    def quadprog_solve_qp(self, P, q, G=None, h=None, A=None, b=None):\n",
    "        \"\"\"This is a faster QPP method\"\"\"\n",
    "#         qp_G = .5 * (P + P.T)# make sure P is symmetric\n",
    "        qp_G = P\n",
    "        qp_a = -q\n",
    "        if A is not None:\n",
    "            qp_C = -np.vstack([A, G]).T\n",
    "            qp_b = -np.hstack([b, h])\n",
    "            meq = A.shape[0]\n",
    "        else:  # no equality constraint\n",
    "            qp_C = -G.T\n",
    "            qp_b = -h\n",
    "            meq = 0\n",
    "    #     print(quadprog.solve_qp(qp_G, qp_a, qp_C, qp_b, meq)[0])\n",
    "        return quadprog.solve_qp(qp_G, qp_a, qp_C, qp_b, meq)[0]\n",
    "    \n",
    "    def support_vectors(self):\n",
    "        self.sv_index = np.where(self.alphas>0.00001)[0]\n",
    "        self.sv_x = self.X[self.sv_index]\n",
    "        self.sv_y = self.Y[self.sv_index]\n",
    "        print('\\n Support Vectors are:')\n",
    "        print('X: \\n', self.sv_x)\n",
    "        print('Y: \\n',self.sv_y)\n",
    "        print('sv_index:', self.sv_index)\n",
    "        #return(self.sv_index, self.sv_x, self.sv_y)\n",
    "\n",
    "    def weights(self):\n",
    "        self.weights = np.sum(self.alphas[self.sv_index][:, np.newaxis] * self.sv_y[:, np.newaxis] * self.sv_x, 0)[:, np.newaxis]\n",
    "        #print(f'\\n weights: {self.weights}')\n",
    "        sv_grid = (self.alphas > 0.00001).flatten()\n",
    "        print('y[S]: ', ((self.Y[sv_grid]).T))\n",
    "        # print('X[S]: ', self.X[sv_grid])\n",
    "        print('np.dot(X[S], W): ', np.dot(self.X[sv_grid], self.weights))\n",
    "        # print('weights: ', self.weights)\n",
    "        b = self.Y[sv_grid] - np.dot(self.X[sv_grid], self.weights)\n",
    "        print(b)\n",
    "    \n",
    "    def plot(self):\n",
    "        plt.scatter(self.X[:,0],self.X[:,1],c=self.Y)         \n",
    "        plt.scatter(self.sv_x[:,0],self.sv_x[:,1], marker = 'D')\n",
    "        #plt.show()\n",
    "        \n",
    "    def _str__(self):\n",
    "        return 'done'\n",
    "\n",
    "filename = 'linsep.txt'\n",
    "p = SVM(filename)\n",
    "#print(p)"
   ]
  },
  {
   "cell_type": "code",
   "execution_count": 4,
   "metadata": {},
   "outputs": [
    {
     "data": {
      "text/plain": [
       "array([[1.43167894, 0.93490565, 0.89499301, ..., 1.49716449, 1.19399737,\n",
       "        1.03045302],\n",
       "       [0.93490565, 0.80921705, 0.76459774, ..., 1.04120747, 0.78754643,\n",
       "        0.54189468],\n",
       "       [0.89499301, 0.76459774, 0.72282389, ..., 0.99353589, 0.75352688,\n",
       "        0.52540087],\n",
       "       ...,\n",
       "       [1.49716449, 1.04120747, 0.99353589, ..., 1.58596225, 1.25112137,\n",
       "        1.03569681],\n",
       "       [1.19399737, 0.78754643, 0.75352688, ..., 1.25112137, 0.99608486,\n",
       "        0.85420603],\n",
       "       [1.03045302, 0.54189468, 0.52540087, ..., 1.03569681, 0.85420603,\n",
       "        0.82803828]])"
      ]
     },
     "execution_count": 4,
     "metadata": {},
     "output_type": "execute_result"
    }
   ],
   "source": [
    "p.rows\n",
    "len(p.alphas)\n",
    "p.X\n",
    "p.Y\n",
    "p.xixj\n",
    "#np.dot(p.X[0], p.X[0])"
   ]
  },
  {
   "cell_type": "code",
   "execution_count": 8,
   "metadata": {},
   "outputs": [],
   "source": [
    "data = np.loadtxt(filename,dtype='float',delimiter=',')\n",
    "X = data[:,0:2]\n",
    "Y = data[:,2]\n",
    "\n",
    "rows = 100\n",
    "xixj = np.zeros((rows, rows))\n",
    "yiyj = np.zeros((rows, rows))\n",
    "\n",
    "for i in range(rows):\n",
    "    for j in range(rows):\n",
    "        xixj[i, j] = np.dot(X[i], X[j])\n",
    "        yiyj[i, j] = np.dot(Y[i], Y[j])\n",
    "\n",
    "P = yiyj * xixj\n",
    "# len(P)\n",
    "# print(P)\n",
    "# # len(xixj[0])\n",
    "# #xixj\n",
    "# #yiyj\n",
    "# #len(P)\n",
    "\n",
    "Q = np.ones(rows) * -1\n",
    "#q\n",
    "\n",
    "G = np.diag(np.ones(rows) * -1)\n",
    "#len(G)\n",
    "\n",
    "h = np.zeros(rows)\n",
    "A = Y\n",
    "b = 0.0"
   ]
  },
  {
   "cell_type": "code",
   "execution_count": 9,
   "metadata": {},
   "outputs": [],
   "source": [
    "def cvxopt_solve_qp(P, Q, G=None, h=None, A=None, b=None):\n",
    "    #     P = .5 * (P + P.T)  # make sure P is symmetric\n",
    "    args = [cvxopt.matrix(P), cvxopt.matrix(Q)]\n",
    "    if G is not None:\n",
    "        args.extend([cvxopt.matrix(G), cvxopt.matrix(h)])\n",
    "        if A is not None:\n",
    "            args.extend([cvxopt.matrix(A, (1,100)), cvxopt.matrix(b)])\n",
    "    sol = cvxopt.solvers.qp(*args)\n",
    "#     if 'optimal' not in sol['status']:\n",
    "#         return None\n",
    "    return sol\n",
    "    #return np.array(sol['x']).reshape((P.shape[1],))"
   ]
  },
  {
   "cell_type": "code",
   "execution_count": 16,
   "metadata": {},
   "outputs": [
    {
     "name": "stdout",
     "output_type": "stream",
     "text": [
      "     pcost       dcost       gap    pres   dres\n",
      " 0: -2.0636e+01 -4.3905e+01  3e+02  2e+01  2e+00\n",
      " 1: -2.2372e+01 -3.7202e+01  9e+01  5e+00  5e-01\n",
      " 2: -2.3112e+01 -3.8857e+01  5e+01  2e+00  2e-01\n",
      " 3: -2.8318e+01 -3.3963e+01  1e+01  4e-01  4e-02\n",
      " 4: -3.2264e+01 -3.3927e+01  2e+00  1e-02  1e-03\n",
      " 5: -3.3568e+01 -3.3764e+01  2e-01  1e-03  1e-04\n",
      " 6: -3.3737e+01 -3.3739e+01  2e-03  1e-05  1e-06\n",
      " 7: -3.3739e+01 -3.3739e+01  2e-05  1e-07  1e-08\n",
      " 8: -3.3739e+01 -3.3739e+01  2e-07  1e-09  1e-10\n",
      "Optimal solution found.\n"
     ]
    },
    {
     "data": {
      "text/plain": [
       "{'x': <100x1 matrix, tc='d'>,\n",
       " 'y': <1x1 matrix, tc='d'>,\n",
       " 's': <100x1 matrix, tc='d'>,\n",
       " 'z': <100x1 matrix, tc='d'>,\n",
       " 'status': 'optimal',\n",
       " 'gap': 2.422243997171848e-07,\n",
       " 'relative gap': 7.179411922214278e-09,\n",
       " 'primal objective': -33.73875219051059,\n",
       " 'dual objective': -33.73875241022214,\n",
       " 'primal infeasibility': 1.1634638951525142e-09,\n",
       " 'dual infeasibility': 1.2144676560863933e-10,\n",
       " 'primal slack': 4.479968201172634e-10,\n",
       " 'dual slack': 1.687310388154537e-10,\n",
       " 'iterations': 8}"
      ]
     },
     "execution_count": 16,
     "metadata": {},
     "output_type": "execute_result"
    }
   ],
   "source": [
    "sol = cvxopt_solve_qp(P, Q, G, h, A, b)\n",
    "sol\n",
    "#np.array(sol['x'])"
   ]
  },
  {
   "cell_type": "code",
   "execution_count": 18,
   "metadata": {},
   "outputs": [],
   "source": [
    "#Data set\n",
    "x_neg = np.array([[3,4],[1,4],[2,3]])\n",
    "y_neg = np.array([-1,-1,-1])\n",
    "x_pos = np.array([[6,-1],[7,-1],[5,-3]])\n",
    "y_pos = np.array([1,1,1])\n",
    "x1 = np.linspace(-10,10)\n",
    "x = np.vstack((np.linspace(-10,10),np.linspace(-10,10)))\n",
    "\n",
    "#Data for the next section\n",
    "X = np.vstack((x_pos, x_neg))\n",
    "y = np.concatenate((y_pos,y_neg))\n",
    "\n",
    "#Parameters guessed by inspection\n",
    "w = np.array([1,-1]).reshape(-1,1)\n",
    "b = -3"
   ]
  },
  {
   "cell_type": "code",
   "execution_count": 61,
   "metadata": {},
   "outputs": [
    {
     "name": "stdout",
     "output_type": "stream",
     "text": [
      "<class 'numpy.ndarray'>\n"
     ]
    },
    {
     "data": {
      "text/plain": [
       "array([[-0.74996781],\n",
       "       [-0.74996781]])"
      ]
     },
     "execution_count": 61,
     "metadata": {},
     "output_type": "execute_result"
    }
   ],
   "source": [
    "#Importing with custom names to avoid issues with numpy / sympy matrix\n",
    "from cvxopt import matrix as cvxopt_matrix\n",
    "from cvxopt import solvers as cvxopt_solvers\n",
    "\n",
    "#Initializing values and computing H. Note the 1. to force to float type\n",
    "m,n = X.shape\n",
    "y = y.reshape(-1,1) * 1.\n",
    "X_dash = y * X\n",
    "H = np.dot(X_dash , X_dash.T) * 1.\n",
    "\n",
    "#Converting into cvxopt format\n",
    "P = cvxopt_matrix(H)\n",
    "q = cvxopt_matrix(-np.ones((m, 1)))\n",
    "G = cvxopt_matrix(-np.eye(m))\n",
    "h = cvxopt_matrix(np.zeros(m))\n",
    "A = cvxopt_matrix(y.reshape(1, -1))\n",
    "b = cvxopt_matrix(np.zeros(1))\n",
    "\n",
    "#Setting solver parameters (change default to decrease tolerance) \n",
    "cvxopt_solvers.options['show_progress'] = False\n",
    "cvxopt_solvers.options['abstol'] = 1e-10\n",
    "cvxopt_solvers.options['reltol'] = 1e-10\n",
    "cvxopt_solvers.options['feastol'] = 1e-10\n",
    "\n",
    "#Run solver\n",
    "sol = cvxopt_solvers.qp(P, q, G, h, A, b)\n",
    "alphas = np.array(sol['x'])\n",
    "#alphas\n",
    "\n",
    "#print(alphas)\n",
    "#print(y)\n",
    "# print((y * alphas).T)\n",
    "#print(type(X))\n",
    "#print((y * alphas).T @ X)\n",
    "#print((np.dot((y * alphas).T, X)).T) #Use this for calculating w\n",
    "#print(((y * alphas).T @ X).T)\n",
    "\n",
    "# w = ((y * alphas).T @ X).reshape(-1,1)\n",
    "#print(w)\n",
    "\n",
    "S = (alphas > 1e-4).flatten()\n",
    "print(type(y[S]))\n",
    "b = y[S] - np.dot(X[S], w)\n",
    "b"
   ]
  },
  {
   "cell_type": "code",
   "execution_count": null,
   "metadata": {},
   "outputs": [],
   "source": [
    "#w parameter in vectorized form\n",
    "w = ((y * alphas).T @ X).reshape(-1,1)"
   ]
  },
  {
   "cell_type": "code",
   "execution_count": 77,
   "metadata": {},
   "outputs": [
    {
     "name": "stdout",
     "output_type": "stream",
     "text": [
      "[[5]\n",
      " [4]]\n"
     ]
    }
   ],
   "source": [
    "a = np.array([5,4])[np.newaxis].T\n",
    "print(a)\n",
    "#print(a.T)"
   ]
  },
  {
   "cell_type": "code",
   "execution_count": null,
   "metadata": {},
   "outputs": [],
   "source": []
  }
 ],
 "metadata": {
  "kernelspec": {
   "display_name": "Python 3",
   "language": "python",
   "name": "python3"
  },
  "language_info": {
   "codemirror_mode": {
    "name": "ipython",
    "version": 3
   },
   "file_extension": ".py",
   "mimetype": "text/x-python",
   "name": "python",
   "nbconvert_exporter": "python",
   "pygments_lexer": "ipython3",
   "version": "3.7.4"
  }
 },
 "nbformat": 4,
 "nbformat_minor": 2
}
