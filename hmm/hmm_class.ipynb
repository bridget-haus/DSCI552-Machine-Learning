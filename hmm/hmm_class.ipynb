{
 "cells": [
  {
   "cell_type": "code",
   "execution_count": 1,
   "metadata": {},
   "outputs": [],
   "source": [
    "#GOAL: Make edits to HMM class here, then push to hmm.py\n",
    "import numpy as np\n",
    "import hmm"
   ]
  },
  {
   "cell_type": "code",
   "execution_count": 2,
   "metadata": {},
   "outputs": [],
   "source": [
    "robot = hmm.robot_stats()"
   ]
  },
  {
   "cell_type": "code",
   "execution_count": 5,
   "metadata": {},
   "outputs": [],
   "source": [
    "# robot.emis_matrix_list[0]\n",
    "# robot.I_dict"
   ]
  },
  {
   "cell_type": "code",
   "execution_count": 10,
   "metadata": {},
   "outputs": [],
   "source": [
    "class HMM(object):\n",
    "    ''' Simple Hidden Markov Model implementation.  User provides\n",
    "        transition, emission and initial probabilities in dictionaries\n",
    "        mapping 2-character codes onto floating-point probabilities\n",
    "        for those table entries.  States and emissions are represented\n",
    "        with single characters.  Emission symbols comes from a finite.  '''\n",
    "    \n",
    "    def __init__(self, A, E, I, emis_matrix_list):\n",
    "        ''' Initialize the HMM given transition, emission and initial\n",
    "            probability tables. '''\n",
    "        \n",
    "        # put state labels to the set self.Q\n",
    "        self.Q, self.S = set(), set() # states and symbols\n",
    "        for a, prob in A.items():\n",
    "#             asrc, adst = a[0], a[1]\n",
    "            asrc, adst = a.split('|')\n",
    "#             print('asrc: ', asrc)\n",
    "#             print('adst: ', adst)\n",
    "            self.Q.add(asrc)\n",
    "            self.Q.add(adst)\n",
    "            \n",
    "        # add all the symbols to the set self.S\n",
    "        for e, prob in E.items():\n",
    "#             eq, es = e[0], e[1]\n",
    "            eq, es = e.split('|')\n",
    "            self.Q.add(eq)\n",
    "            self.S.add(es)\n",
    "        \n",
    "        self.Q = sorted(list(self.Q))\n",
    "        self.S = sorted(list(self.S))\n",
    "        \n",
    "        # create maps from state labels / emission symbols to integers\n",
    "        # that function as unique IDs\n",
    "        qmap, smap = {}, {}\n",
    "        for i in range(len(self.Q)): qmap[self.Q[i]] = i\n",
    "        for i in range(len(self.S)): smap[self.S[i]] = i\n",
    "        lenq = len(self.Q)\n",
    "        \n",
    "        # create and populate transition probability matrix\n",
    "        self.A = np.zeros(shape=(lenq, lenq), dtype=float)\n",
    "        for a, prob in A.items():\n",
    "#             asrc, adst = a[0], a[1]\n",
    "            asrc, adst = a.split('|')\n",
    "            self.A[qmap[asrc], qmap[adst]] = prob\n",
    "        # make A stochastic (i.e. make rows add to 1)\n",
    "        self.A /= self.A.sum(axis=1)[:, np.newaxis]\n",
    "        \n",
    "        # create and populate emission probability matrix\n",
    "        self.E = emis_matrix_list[0]\n",
    "        \n",
    "        # initial probabilities\n",
    "        self.I = [ 0.0 ] * len(self.Q)\n",
    "        for a, prob in I.items():\n",
    "            self.I[qmap[a]] = prob\n",
    "        # make I stochastic (i.e. adds to 1)\n",
    "        self.I = np.divide(self.I, sum(self.I))\n",
    "#         self.I = I\n",
    "        \n",
    "        self.qmap, self.smap = qmap, smap\n",
    "        \n",
    "        #Accept emis_matrix_list\n",
    "        self.emis_matrix_list = emis_matrix_list\n",
    "        \n",
    "    def viterbi(self, x):\n",
    "        ''' Given sequence of emissions, return the most probable path\n",
    "            along with its probability. '''\n",
    "        \n",
    "        #TODO: Use different smap for each observation\n",
    "        \n",
    "        #TO-DO: Change to consider lists of possible cells, per observation\n",
    "        x = list(map(self.smap.get, x)) # turn emission characters into ids\n",
    "        print('smap: ', self.smap)\n",
    "        print('smap x: ', x)\n",
    "        nrow, ncol = len(self.Q), len(x) #len trans_matrix = 87, len obs = 11\n",
    "        mat   = np.zeros(shape=(nrow, ncol), dtype=float) # prob\n",
    "        matTb = np.zeros(shape=(nrow, ncol), dtype=int)   # backtrace\n",
    "        \n",
    "        # Fill in first column\n",
    "        for i in range(0, nrow):\n",
    "            mat[i, 0] = self.E[i, x[0]] * self.I[i] #TODO: Confirm E\n",
    "        \n",
    "#         for i in range(0, nrow): #nrow = 87\n",
    "#             mat[i, 0] = self.emis_matrix_list[0][i, x[0]] * self.I[i] #Fix x\n",
    "            \n",
    "        # Fill in rest of prob and Tb tables\n",
    "        for j in range(1, ncol):\n",
    "            for i in range(0, nrow):\n",
    "                ep = self.E[i, x[j]] #TODO: Confirm E\n",
    "                mx, mxi = mat[0, j-1] * self.A[0, i] * ep, 0\n",
    "                for i2 in range(1, nrow):\n",
    "                    pr = mat[i2, j-1] * self.A[i2, i] * ep\n",
    "                    if pr > mx:\n",
    "                        mx, mxi = pr, i2\n",
    "                mat[i, j], matTb[i, j] = mx, mxi\n",
    "                \n",
    "        # Find final state with maximal probability\n",
    "        omx, omxi = mat[0, ncol-1], 0\n",
    "        for i in range(1, nrow):\n",
    "            if mat[i, ncol-1] > omx:\n",
    "                omx, omxi = mat[i, ncol-1], i\n",
    "                \n",
    "        # Backtrace\n",
    "        i, p = omxi, [omxi]\n",
    "        for j in range(ncol-1, 0, -1):\n",
    "            i = matTb[i, j]\n",
    "            p.append(i)\n",
    "        p = ''.join(map(lambda x: self.Q[x], p[::-1]))\n",
    "        return omx, p # Return probability and path"
   ]
  },
  {
   "cell_type": "code",
   "execution_count": null,
   "metadata": {},
   "outputs": [],
   "source": []
  },
  {
   "cell_type": "code",
   "execution_count": 11,
   "metadata": {},
   "outputs": [
    {
     "data": {
      "text/plain": [
       "array([0.5, 0.5])"
      ]
     },
     "execution_count": 11,
     "metadata": {},
     "output_type": "execute_result"
    }
   ],
   "source": [
    "hmm = HMM({\"F|F\":0.9, \"F|L\":0.1, \"L|F\":0.1, \"L|L\":0.9}, # transition matrix A\n",
    "          {\"F|H\":0.5, \"F|T\":0.4, \"F|M\": 0.1, \"L|H\":0.75, \"L|T\":0.15, \"F|M\": 0.1}, # emission matrix E\n",
    "          {\"F\":0.5, \"L\":0.5},\n",
    "         robot.emis_matrix_list) # initial probabilities I\n",
    "hmm.I\n"
   ]
  },
  {
   "cell_type": "code",
   "execution_count": 19,
   "metadata": {},
   "outputs": [
    {
     "data": {
      "text/plain": [
       "(10, 87)"
      ]
     },
     "execution_count": 19,
     "metadata": {},
     "output_type": "execute_result"
    }
   ],
   "source": [
    "hmm2 = HMM(robot.T, #transition matrix A\n",
    "           robot.E_list[0], #DELETE THIS LATER\n",
    "           robot.I_dict, #initial probabilities I\n",
    "           robot.emis_matrix_list) # emission matrices E\n",
    "# hmm2.A.shape\n",
    "hmm2.E.shape"
   ]
  },
  {
   "cell_type": "code",
   "execution_count": 13,
   "metadata": {},
   "outputs": [
    {
     "name": "stdout",
     "output_type": "stream",
     "text": [
      "smap:  {'H': 0, 'M': 1, 'T': 2}\n",
      "smap x:  [0, 1, 2, 0, 1, 2]\n"
     ]
    }
   ],
   "source": [
    "jprobOpt, path = hmm.viterbi(\"HMTHMT\")"
   ]
  },
  {
   "cell_type": "code",
   "execution_count": 15,
   "metadata": {},
   "outputs": [],
   "source": [
    "# jprobOpt, path = hmm2.viterbi(\"HMTHMT\")"
   ]
  },
  {
   "cell_type": "code",
   "execution_count": null,
   "metadata": {},
   "outputs": [],
   "source": [
    "#GOAL: Chang"
   ]
  }
 ],
 "metadata": {
  "kernelspec": {
   "display_name": "Python 3",
   "language": "python",
   "name": "python3"
  },
  "language_info": {
   "codemirror_mode": {
    "name": "ipython",
    "version": 3
   },
   "file_extension": ".py",
   "mimetype": "text/x-python",
   "name": "python",
   "nbconvert_exporter": "python",
   "pygments_lexer": "ipython3",
   "version": "3.7.4"
  }
 },
 "nbformat": 4,
 "nbformat_minor": 2
}
