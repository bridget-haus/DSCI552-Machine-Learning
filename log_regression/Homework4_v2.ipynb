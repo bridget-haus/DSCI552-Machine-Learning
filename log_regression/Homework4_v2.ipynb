{
 "cells": [
  {
   "cell_type": "markdown",
   "metadata": {},
   "source": [
    "You can write your programs in any programming language. However, you will have to implement the algorithms yourself instead of using high-level library functions, except for solving a system of linear equations. Please provide a description of the data structures you use, any code-level optimizations you perform, any challenges you face, and of course, the requested outputs."
   ]
  },
  {
   "cell_type": "markdown",
   "metadata": {},
   "source": [
    "### Linear Regression"
   ]
  },
  {
   "cell_type": "markdown",
   "metadata": {},
   "source": [
    "part 1"
   ]
  },
  {
   "cell_type": "code",
   "execution_count": 4,
   "metadata": {},
   "outputs": [
    {
     "name": "stdout",
     "output_type": "stream",
     "text": [
      "[[0.01523535 1.08546357 3.99068855]]\n"
     ]
    }
   ],
   "source": [
    "import numpy as np\n",
    "\n",
    "filename = 'C:\\\\Users\\Peter\\\\Desktop\\\\Classes\\\\INF 552\\\\Homework 4\\\\linear-regression.txt'\n",
    "X_data = []\n",
    "Y_data = []\n",
    "with open(filename, \"r\") as file:\n",
    "    content = file.read().splitlines()\n",
    "    for line in content:\n",
    "        temp = [1]\n",
    "        for val in line.split(\",\")[:2]:\n",
    "            temp.append(val)\n",
    "        X_data.append(temp)\n",
    "        Y_data.append(line.split(\",\")[2])\n",
    "    \n",
    "    # Solve with matrix computations W_opt = (D*DT)^-1 * D*y\n",
    "    # D == X_data;  y == Y_data    \n",
    "    \n",
    "    X_data = np.mat(np.array(X_data).astype(float))\n",
    "    Y_data = np.mat(np.array(Y_data).astype(float))\n",
    "\n",
    "    \n",
    "    X_new = X_data.T* X_data\n",
    "    X_new = X_new.I\n",
    "    Y_new = Y_data*X_data\n",
    "    Y_new = Y_new.T\n",
    "\n",
    "    weights = np.dot(X_new,Y_new,out=None).T\n",
    "    print(weights)\n"
   ]
  },
  {
   "cell_type": "markdown",
   "metadata": {},
   "source": [
    "Part II: Apply Library for linear regression "
   ]
  },
  {
   "cell_type": "code",
   "execution_count": 5,
   "metadata": {},
   "outputs": [
    {
     "name": "stdout",
     "output_type": "stream",
     "text": [
      "[[0.01523535 1.08546357 3.99068855]]\n"
     ]
    }
   ],
   "source": [
    "from sklearn.linear_model import LinearRegression\n",
    "import numpy as np\n",
    "filename = 'C:\\\\Users\\Peter\\\\Desktop\\\\Classes\\\\INF 552\\\\Homework 4\\\\linear-regression.txt'\n",
    "\n",
    "X_data = []\n",
    "Y_data = []\n",
    "with open(filename, \"r\") as file:\n",
    "    content = file.read().splitlines()\n",
    "    for line in content:\n",
    "        temp = [1]\n",
    "        for val in line.split(\",\")[:2]:\n",
    "            temp.append(val)\n",
    "        X_data.append(temp)\n",
    "        Y_data.append(line.split(\",\")[2])\n",
    "    \n",
    "    \n",
    "    X_data = np.mat(np.array(X_data).astype(float))\n",
    "    Y_data = np.mat(np.array(Y_data).astype(float)).T\n",
    "\n",
    "    linear_regression = LinearRegression(fit_intercept=False).fit(X_data, Y_data)\n",
    "    lr_coef = linear_regression.coef_\n",
    "    print(lr_coef)"
   ]
  },
  {
   "cell_type": "code",
   "execution_count": null,
   "metadata": {},
   "outputs": [],
   "source": []
  },
  {
   "cell_type": "markdown",
   "metadata": {},
   "source": [
    "### Logistic Regression"
   ]
  },
  {
   "cell_type": "markdown",
   "metadata": {},
   "source": [
    "Part I: Implement Logistic Regression and run it on the points in the data file \"classification.txt\" ignoring the 4th column. That is, consider only the first 3 columns and the 5th column in each row. The first 3 columns are the coordinates of a point; and the 5th column is its classification label +1 or -1. Use the sigmoid function Ɵ(s) = es/(1+es).  Run up to 7000 iterations. Report your results (weights and accuracy after the final iteration). "
   ]
  },
  {
   "cell_type": "code",
   "execution_count": 2,
   "metadata": {
    "scrolled": true
   },
   "outputs": [
    {
     "name": "stdout",
     "output_type": "stream",
     "text": [
      "[[-0.03400825 -0.17574821  0.11572622  0.07828876]]\n",
      "error of: 0.471\n"
     ]
    }
   ],
   "source": [
    "import sys \n",
    "import numpy as np\n",
    "\n",
    "def sigmoid(x):\n",
    "    return -1/(1+np.exp(x))\n",
    "\n",
    "def gradient_descent(sig,X_data,Y_data):\n",
    "    gradient = np.multiply(sig, np.multiply(X_data,Y_data))\n",
    "    return np.sum(gradient, axis = 0)\n",
    "\n",
    "def get_weights(weights, gradient, learning_rate):\n",
    "    eta = learning_rate\n",
    "    W = weights - eta * gradient\n",
    "    return W\n",
    "\n",
    "def error(countcorrect,len_vals):\n",
    "    error = round(1 - int(countcorrect) / len_vals,4)\n",
    "    return error\n",
    "\n",
    "filename = 'C:\\\\Users\\Peter\\\\Desktop\\\\Classes\\\\INF 552\\\\Homework 4\\\\classification.txt'\n",
    "X_data = []\n",
    "Y_data = []\n",
    "eta = -.05 #learning late\n",
    "count_correct = 0\n",
    "count_incorrect = 0\n",
    "with open(filename, \"r\") as file:\n",
    "    content = file.read().splitlines()\n",
    "    for line in content: #Split the data into attributes and classifiers \n",
    "        temp = [1]\n",
    "        for val in line.split(\",\")[:3]:\n",
    "            temp.append(val)\n",
    "        X_data.append(temp)\n",
    "        Y_data.append(line.split(\",\")[4])\n",
    "        \n",
    "    weights = [] #Randomly assign weights to each of the variables\n",
    "    for i in range(len(X_data[0])):\n",
    "        weights.append(np.random.uniform(0,1))\n",
    "    weights = np.mat(np.array(weights))\n",
    "\n",
    "    X_data = np.mat(np.array(X_data).astype(float))\n",
    "    Y_data = np.mat(np.array(Y_data).astype(float)).T\n",
    "    ywx = np.multiply((X_data * weights.T), Y_data)\n",
    "    \n",
    "    for i in range(7000): #iterate recursively 7000 times\n",
    "        ywx = np.multiply((X_data * weights.T), Y_data)\n",
    "        gradient = gradient_descent(sigmoid(ywx),X_data,Y_data) * -1/len(Y_data) #*-1/N\n",
    "        weights = get_weights(weights,gradient,eta)\n",
    "    \n",
    "    print(weights)\n",
    "    \n",
    "    prediction = np.dot(X_data, weights.T)\n",
    "    for i in range(len(prediction)):\n",
    "        if prediction[i]>0:\n",
    "            my_predict = 1\n",
    "        else:\n",
    "            my_predict = -1\n",
    "            \n",
    "        if Y_data[i] == my_predict:\n",
    "            count_correct += 1\n",
    "        else:\n",
    "            count_incorrect += 1\n",
    "    \n",
    "    total_error = error(count_correct,len(Y_data))\n",
    "    print(f'error of: {total_error}')"
   ]
  },
  {
   "cell_type": "markdown",
   "metadata": {},
   "source": [
    "Part II"
   ]
  },
  {
   "cell_type": "code",
   "execution_count": 3,
   "metadata": {},
   "outputs": [
    {
     "name": "stdout",
     "output_type": "stream",
     "text": [
      "[-0.03287574 -0.16190844  0.10430366  0.08365111]\n",
      "              precision    recall  f1-score   support\n",
      "\n",
      "        -1.0       0.57      0.72      0.63        53\n",
      "         1.0       0.55      0.38      0.45        47\n",
      "\n",
      "    accuracy                           0.56       100\n",
      "   macro avg       0.56      0.55      0.54       100\n",
      "weighted avg       0.56      0.56      0.55       100\n",
      "\n"
     ]
    },
    {
     "name": "stderr",
     "output_type": "stream",
     "text": [
      "C:\\Users\\Peter\\Anaconda3\\lib\\site-packages\\sklearn\\linear_model\\logistic.py:432: FutureWarning: Default solver will be changed to 'lbfgs' in 0.22. Specify a solver to silence this warning.\n",
      "  FutureWarning)\n",
      "C:\\Users\\Peter\\Anaconda3\\lib\\site-packages\\sklearn\\utils\\validation.py:724: DataConversionWarning: A column-vector y was passed when a 1d array was expected. Please change the shape of y to (n_samples, ), for example using ravel().\n",
      "  y = column_or_1d(y, warn=True)\n"
     ]
    }
   ],
   "source": [
    "from sklearn.model_selection import train_test_split\n",
    "from sklearn.linear_model import LogisticRegression\n",
    "from sklearn.metrics import classification_report\n",
    "filename = 'C:\\\\Users\\Peter\\\\Desktop\\\\Classes\\\\INF 552\\\\Homework 4\\\\classification.txt'\n",
    "X_data = []\n",
    "Y_data = []\n",
    "eta = -.05 #learning late\n",
    "count_correct = 0\n",
    "count_incorrect = 0\n",
    "with open(filename, \"r\") as file:\n",
    "    content = file.read().splitlines()\n",
    "    for line in content: #Split the data into attributes and classifiers \n",
    "        temp = [1]\n",
    "        for val in line.split(\",\")[:3]:\n",
    "            temp.append(val)\n",
    "        X_data.append(temp)\n",
    "        Y_data.append(line.split(\",\")[4])\n",
    "    X_data = np.mat(np.array(X_data).astype(float))\n",
    "    Y_data = np.mat(np.array(Y_data).astype(float)).T\n",
    "\n",
    "    X_train, X_test, y_train, y_test = train_test_split(X_data, \n",
    "       Y_data, test_size=0.05, \n",
    "        random_state=101)\n",
    "    \n",
    "    logmodel = LogisticRegression(fit_intercept=False)\n",
    "    logmodel.fit(X_train, y_train)\n",
    "    \n",
    "    predictions = logmodel.predict(X_test)\n",
    "    coef = logmodel.coef_[0]\n",
    "    print(coef)\n",
    "    print(classification_report(y_test,predictions))"
   ]
  },
  {
   "cell_type": "code",
   "execution_count": 159,
   "metadata": {},
   "outputs": [
    {
     "data": {
      "text/plain": [
       "matrix([[1.        , 0.37548293, 0.61170169, 0.06555911],\n",
       "        [1.        , 0.51472457, 0.13894154, 0.55876299],\n",
       "        [1.        , 0.59729199, 0.16808712, 0.90171251],\n",
       "        ...,\n",
       "        [1.        , 0.49932978, 0.00348945, 0.41113451],\n",
       "        [1.        , 0.23532485, 0.65339908, 0.94110067],\n",
       "        [1.        , 0.65529428, 0.86423406, 0.79394741]])"
      ]
     },
     "execution_count": 159,
     "metadata": {},
     "output_type": "execute_result"
    }
   ],
   "source": [
    "X_train"
   ]
  },
  {
   "cell_type": "code",
   "execution_count": null,
   "metadata": {},
   "outputs": [],
   "source": []
  }
 ],
 "metadata": {
  "kernelspec": {
   "display_name": "Python 3",
   "language": "python",
   "name": "python3"
  },
  "language_info": {
   "codemirror_mode": {
    "name": "ipython",
    "version": 3
   },
   "file_extension": ".py",
   "mimetype": "text/x-python",
   "name": "python",
   "nbconvert_exporter": "python",
   "pygments_lexer": "ipython3",
   "version": "3.7.4"
  }
 },
 "nbformat": 4,
 "nbformat_minor": 2
}
